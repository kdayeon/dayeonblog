{
 "cells": [
  {
   "attachments": {},
   "cell_type": "markdown",
   "metadata": {},
   "source": [
    "---\n",
    "title: \"geopandas 설치법\"\n",
    "author: \"kim dayeon\"\n",
    "date: today\n",
    "categories: [news, code, analysis]\n",
    "image: \"ge.png\"\n",
    "---"
   ]
  },
  {
   "attachments": {},
   "cell_type": "markdown",
   "metadata": {},
   "source": [
    "## 자료 출처\n",
    "\n",
    "https://domdom.tistory.com/599"
   ]
  },
  {
   "attachments": {},
   "cell_type": "markdown",
   "metadata": {},
   "source": [
    "## 기본 환경\n",
    "\n",
    "Anaconda - Python: 3.11.10\n",
    "Mac"
   ]
  },
  {
   "cell_type": "code",
   "execution_count": 1,
   "metadata": {},
   "outputs": [
    {
     "data": {
      "text/plain": [
       "'/Users/jihoyeo/miniforge3/envs/base2/bin/python'"
      ]
     },
     "execution_count": 1,
     "metadata": {},
     "output_type": "execute_result"
    }
   ],
   "source": [
    "import sys\n",
    "sys.executable"
   ]
  },
  {
   "cell_type": "code",
   "execution_count": 2,
   "metadata": {},
   "outputs": [
    {
     "data": {
      "text/plain": [
       "'3.11.0 | packaged by conda-forge | (main, Jan 14 2023, 12:26:40) [Clang 14.0.6 ]'"
      ]
     },
     "execution_count": 2,
     "metadata": {},
     "output_type": "execute_result"
    }
   ],
   "source": [
    "sys.version"
   ]
  },
  {
   "cell_type": "markdown",
   "metadata": {},
   "source": [
    "## 패키지 다운로드\n",
    "\n",
    "더 아래의 pip 설치 구문에 있는 패키지별 버전을 참조하여\n",
    "아래의 사이트에서 각 패키지 설치 파일(.whl)을 다운로드 받습니다.\n",
    "\n",
    "https://www.lfd.uci.edu/~gohlke/pythonlibs/#shapely  \n",
    "https://www.lfd.uci.edu/~gohlke/pythonlibs/#gdal  \n",
    "https://www.lfd.uci.edu/~gohlke/pythonlibs/#fiona  \n",
    "https://pypi.org/project/geopandas/#files"
   ]
  },
  {
   "attachments": {},
   "cell_type": "markdown",
   "metadata": {},
   "source": [
    "## 설치 (윈도우)\n",
    "\n",
    "아나콘다 프롬프트를 관리자 권한으로 실행합니다.  \n",
    "VSCode로 진행하시는 분은 VSCode 실행을 관리자권한으로 해야 합니다.  \n",
    "현재 경로를 확인하고 이를 감안하여 적정 경로에 설치 파일을 이동해놓습니다.  \n",
    "저는 강의자료가 있는 곳에 geopandas를 폴더를 만들고 이 폴더 안에 설치 파일들을 옮겨놓음  \n",
    "\n",
    "아래의 설치/업데이트 구문을 한줄씩 실행합니다.  \n",
    "먼저, pip와 numpy를 업그레이드 합니다.  "
   ]
  },
  {
   "cell_type": "code",
   "execution_count": 3,
   "metadata": {},
   "outputs": [
    {
     "name": "stderr",
     "output_type": "stream",
     "text": [
      "ERROR: Could not find a version that satisfies the requirement upgrade (from versions: none)\n",
      "ERROR: No matching distribution found for upgrade\n",
      "ERROR: Could not find a version that satisfies the requirement upgrade (from versions: none)\n",
      "ERROR: No matching distribution found for upgrade\n"
     ]
    }
   ],
   "source": [
    "!python -m pip install -- upgrade pip\n",
    "!pip install -- upgrade numpy"
   ]
  },
  {
   "cell_type": "markdown",
   "metadata": {},
   "source": [
    "그 다음 아래 패키지를 순차적으로 설치합니다"
   ]
  },
  {
   "cell_type": "code",
   "execution_count": 4,
   "metadata": {},
   "outputs": [
    {
     "name": "stdout",
     "output_type": "stream",
     "text": [
      "Requirement already satisfied: pyproj in c:\\users\\jiyeo\\.anaconda\\anaconda3\\lib\\site-packages (3.5.0)\n",
      "Requirement already satisfied: certifi in c:\\users\\jiyeo\\.anaconda\\anaconda3\\lib\\site-packages (from pyproj) (2022.9.14)\n"
     ]
    },
    {
     "name": "stderr",
     "output_type": "stream",
     "text": [
      "WARNING: Requirement 'geopandas/Shapely-1.8.2-cp38-cp38-win_amd64.whl' looks like a filename, but the file does not exist\n",
      "ERROR: Shapely-1.8.2-cp38-cp38-win_amd64.whl is not a supported wheel on this platform.\n",
      "WARNING: Requirement 'geopandas/GDAL-3.4.3-cp38-cp38-win_amd64.whl' looks like a filename, but the file does not exist\n",
      "ERROR: GDAL-3.4.3-cp38-cp38-win_amd64.whl is not a supported wheel on this platform.\n",
      "WARNING: Requirement 'geopandas/Fiona-1.8.21-cp38-cp38-win_amd64.whl' looks like a filename, but the file does not exist\n",
      "ERROR: Fiona-1.8.21-cp38-cp38-win_amd64.whl is not a supported wheel on this platform.\n"
     ]
    },
    {
     "name": "stdout",
     "output_type": "stream",
     "text": [
      "Processing c:\\users\\jiyeo\\downloads\\geopandas\\geopandas-0.10.2-py2.py3-none-any.whl\n"
     ]
    },
    {
     "name": "stderr",
     "output_type": "stream",
     "text": [
      "WARNING: Requirement 'geopandas/geopandas-0.10.2-py2.py3-none-any.whl' looks like a filename, but the file does not exist\n",
      "ERROR: Could not install packages due to an OSError: [Errno 2] No such file or directory: 'C:\\\\Users\\\\jiyeo\\\\Downloads\\\\geopandas\\\\geopandas-0.10.2-py2.py3-none-any.whl'\n",
      "\n"
     ]
    }
   ],
   "source": [
    "!pip install pyproj \n",
    "!pip install geopandas/Shapely-1.8.2-cp38-cp38-win_amd64.whl\n",
    "!pip install geopandas/GDAL-3.4.3-cp38-cp38-win_amd64.whl\n",
    "!pip install geopandas/Fiona-1.8.21-cp38-cp38-win_amd64.whl\n",
    "!pip install geopandas/geopandas-0.10.2-py2.py3-none-any.whl\n",
    "\n"
   ]
  },
  {
   "attachments": {},
   "cell_type": "markdown",
   "metadata": {},
   "source": [
    "## 설치 (맥북)\n",
    "\n",
    "```{python}\n",
    "!pip install pyproj\n",
    "!pip install geopy\n",
    "!pip install geopandas\n",
    "```"
   ]
  },
  {
   "cell_type": "markdown",
   "metadata": {},
   "source": [
    "실행이 잘 되는지 확인"
   ]
  },
  {
   "cell_type": "code",
   "execution_count": 3,
   "metadata": {},
   "outputs": [],
   "source": [
    "import geopandas as gpd"
   ]
  }
 ],
 "metadata": {
  "interpreter": {
   "hash": "6f75069263133be733bb13a39f52f84e466286b0fc81a54523ae8c6273fbc591"
  },
  "kernelspec": {
   "display_name": "Python 3 (ipykernel)",
   "language": "python",
   "name": "python3"
  },
  "language_info": {
   "codemirror_mode": {
    "name": "ipython",
    "version": 3
   },
   "file_extension": ".py",
   "mimetype": "text/x-python",
   "name": "python",
   "nbconvert_exporter": "python",
   "pygments_lexer": "ipython3",
   "version": "3.9.13"
  }
 },
 "nbformat": 4,
 "nbformat_minor": 4
}
