{
  "cells": [
    {
      "cell_type": "raw",
      "metadata": {},
      "source": [
        "---\n",
        "title: \"데이터 마이닝 정리\"\n",
        "author: \"kimdayeon\"\n",
        "date: today\n",
        "categories: [news, code, analysis]\n",
        "image: \"yes.jpg\"\n",
        "---"
      ],
      "id": "e15a16ba"
    },
    {
      "cell_type": "markdown",
      "metadata": {},
      "source": [
        "파이썬 기초 정리 입니다.\n",
        "\n",
        "# Numpy 기본\n",
        "\n",
        "< 용어 >\n",
        "\n",
        "각 차원을 축(axis)\n",
        "축의 개수 : 링크(rank)\n",
        "\n",
        "배열의 축 길이 : 배열의 크기(shape)\n",
        "\n",
        "배열의 사이즈(size) = 전체 원소의 개수\n",
        "\n",
        "축의 길이를 모두 곱해 구할수 있음 (가령, 3x4 = 12)\n"
      ],
      "id": "37ea631c"
    },
    {
      "cell_type": "code",
      "metadata": {},
      "source": [
        "import numpy as np\n",
        "\n",
        "np. zeros((3,4))"
      ],
      "id": "f6c6d693",
      "execution_count": null,
      "outputs": []
    },
    {
      "cell_type": "markdown",
      "metadata": {},
      "source": [
        "위의 3x4 행렬은 랭크 2인 배열 (즉, 2차원)\n",
        "\n",
        "첫 번째 축의 길이 : 3 두번째 축의 길이 : 4\n",
        "\n",
        "위 행렬의 크기 : (3,4)\n",
        "\n",
        "랭크는 크기의 길이와 같음\n",
        "\n",
        "< N-차원 배열 >\n",
        "임의로 랭크 수를 가진 N-차원 배열을 만들 수 있음\n",
        "\n",
        "-> 크기가 (2,3,4)인 3D배열(랭크=3)을 만들어라\n"
      ],
      "id": "bcccffed"
    },
    {
      "cell_type": "code",
      "metadata": {},
      "source": [
        "# 2개의 배열을 3행 4열로 만들었음\n",
        "np.zeros((2,3,4))"
      ],
      "id": "19fd2f58",
      "execution_count": null,
      "outputs": []
    },
    {
      "cell_type": "markdown",
      "metadata": {},
      "source": [
        "**1. 타입 알기** \n",
        "type()을 사용해섭 배열의 타입을 알수 있다.\n"
      ],
      "id": "e031e1f8"
    },
    {
      "cell_type": "code",
      "metadata": {},
      "source": [
        "type(np.zeros((3,4)))"
      ],
      "id": "48b170fe",
      "execution_count": null,
      "outputs": []
    },
    {
      "cell_type": "markdown",
      "metadata": {},
      "source": [
        "**2. 0대신 1로 채움**\n"
      ],
      "id": "f9a026b6"
    },
    {
      "cell_type": "code",
      "metadata": {},
      "source": [
        "np.ones((3,4))"
      ],
      "id": "a156085a",
      "execution_count": null,
      "outputs": []
    },
    {
      "cell_type": "markdown",
      "metadata": {},
      "source": [
        "**3. 주어진 값으로 채워넣기**\n"
      ],
      "id": "6bd2b84d"
    },
    {
      "cell_type": "code",
      "metadata": {},
      "source": [
        "np.full((3,4),np.pi)"
      ],
      "id": "69e2d090",
      "execution_count": null,
      "outputs": []
    },
    {
      "cell_type": "markdown",
      "metadata": {},
      "source": [
        "**4. 초기화 되지 않은 2x3크기 배열을 만듬**\n"
      ],
      "id": "38730abc"
    },
    {
      "cell_type": "code",
      "metadata": {},
      "source": [
        "np.empty((2,3))"
      ],
      "id": "4ebe56a5",
      "execution_count": null,
      "outputs": []
    },
    {
      "cell_type": "markdown",
      "metadata": {},
      "source": [
        "**5. array 함수는 파이썬 리스트를 사용하여 ndarray 초기화**"
      ],
      "id": "d49b7bea"
    },
    {
      "cell_type": "code",
      "metadata": {},
      "source": [
        "np.array([[1,2,3,4],[10,20,30,40]])\n",
        "[[1,2,3,4],[10,20,30,40]] # -> 위 결과와 동일한 결과"
      ],
      "id": "c1d31d23",
      "execution_count": null,
      "outputs": []
    },
    {
      "cell_type": "markdown",
      "metadata": {},
      "source": [
        "**6. arrange 기본**\n"
      ],
      "id": "956cb0e3"
    },
    {
      "cell_type": "code",
      "metadata": {},
      "source": [
        "np.arange(1,5) # -> 1~5까지 (마지막 제외)\n",
        "\n",
        "np.arange(1,5,7) #-> 간격 정하기"
      ],
      "id": "3ef9bb4f",
      "execution_count": null,
      "outputs": []
    },
    {
      "cell_type": "markdown",
      "metadata": {},
      "source": [
        "# 7. `부동소수`\n",
        "원소의 개수가 일정하지 않음\n",
        "\n",
        "부동 소수 오차 때문에, 최댓값은 4/3 또는 5/3이됨"
      ],
      "id": "7f980d75"
    },
    {
      "cell_type": "markdown",
      "metadata": {},
      "source": [
        "print(np.arange(0, 5/3, 1/3))\n",
        "print(np.arange(0, 5/3, 0.333333333))\n",
        "print(np.arange(0, 5/3, 0.333333334))\n",
        " ```\n",
        "\n",
        "\n",
        "\n",
        "# 8. for loops 사용\n",
        " 전체 array에 대한 인산 수행 가능 (속도 더 빠르고 적은 메모리 사용)\n",
        "\n",
        "## `np.linspace` / `np.rand & np.randn`\n",
        "\n",
        "1 > 부동 소수를 사용할 땐 arrange 대신 `linspace`함수를 사용 하는것이 좋음\n",
        "\n",
        "linspace ? : 지정된 개수만큼 두 값 사이를 나눈 배열을 반환\n",
        "\n",
        "2 > `np.rand & np.randn` \n",
        "random 모듈안 ndarray를 랜덤한 값으로 초기화할 수 있음\n",
        "-> np.fromfunction도 같은 함수\n"
      ],
      "id": "348f3043"
    },
    {
      "cell_type": "code",
      "metadata": {},
      "source": [
        "## Ex code >\n",
        "# 1 > linspace\n",
        "print(np.linspace(0, 5/3,6)) #0에서 5/3으로 나눔"
      ],
      "id": "a4edf756",
      "execution_count": null,
      "outputs": []
    },
    {
      "cell_type": "code",
      "metadata": {},
      "source": [
        "# 2 > np.rand & np.randn\n",
        "np.random.rand(3,4)\n",
        "\n",
        "np.random.randn(3,4)"
      ],
      "id": "765d1c1a",
      "execution_count": null,
      "outputs": []
    },
    {
      "cell_type": "markdown",
      "metadata": {},
      "source": [
        "## 배열 데이터\n",
        "**dtype** : 데이터 타입 확인 및 지정\n",
        "\n",
        "* 데이터 타입 종류 : int8, int16, int32, int64, uint8|16|32|64, float16|32|64, complex64|128"
      ],
      "id": "41f449a1"
    },
    {
      "cell_type": "code",
      "metadata": {},
      "source": [
        "#확인\n",
        "c = np.arange(1.0,5.0)\n",
        "print(c.dtype,c)\n",
        "\n",
        "#지정\n",
        "d = np.arange(1,5,dtype = np.complex64)\n",
        "print(d.dtype,d)"
      ],
      "id": "9bfa2e6e",
      "execution_count": null,
      "outputs": []
    },
    {
      "cell_type": "markdown",
      "metadata": {},
      "source": [
        "**itemsize** : 아이템의 크기(바이트) 반환\n"
      ],
      "id": "bd97d2ed"
    },
    {
      "cell_type": "code",
      "metadata": {},
      "source": [
        "e = np.arange(1, 5, dtype=np.complex64)\n",
        "e.itemsize"
      ],
      "id": "153b1dcf",
      "execution_count": null,
      "outputs": []
    },
    {
      "cell_type": "markdown",
      "metadata": {},
      "source": [
        "## 배열 크기 변경\n",
        "\n",
        "* `ndarray`의 `shape` 속성을 지정하면 간단히 크기를 바꿀 수 있습니다. 배열의 원소 개수는 동일하게 유지됩니다.\n",
        "\n",
        "(1,2,3) -> 1: 차원 2: 행 , 3: 열\n"
      ],
      "id": "0dfef2f5"
    },
    {
      "cell_type": "code",
      "metadata": {},
      "source": [
        "g = np.arange(24)  #행\n",
        "print(g)\n",
        "print(\"랭크:\", g.ndim)"
      ],
      "id": "06662064",
      "execution_count": null,
      "outputs": []
    },
    {
      "cell_type": "code",
      "metadata": {},
      "source": [
        "g.shape = (6, 4)  #행,열\n",
        "print(g)\n",
        "print(\"랭크:\", g.ndim)"
      ],
      "id": "c07b3e04",
      "execution_count": null,
      "outputs": []
    },
    {
      "cell_type": "code",
      "metadata": {},
      "source": [
        "g.shape = (2, 3, 4)   #차원, 행, 열\n",
        "print(g)\n",
        "print(\"랭크:\", g.ndim)\n",
        "\n",
        "#Ex > 위의 17을 뽑아라\n",
        "g[1,1,1]"
      ],
      "id": "d3c7979a",
      "execution_count": null,
      "outputs": []
    },
    {
      "cell_type": "markdown",
      "metadata": {},
      "source": [
        "**reshape** : 새로운 객체 반환\n"
      ],
      "id": "50a4320c"
    },
    {
      "cell_type": "code",
      "metadata": {},
      "source": [
        "g2 = g.reshape(4,6)  #4행 6열로 변환\n",
        "print(g2)\n",
        "print(\"랭크:\", g2.ndim)"
      ],
      "id": "41551d39",
      "execution_count": null,
      "outputs": []
    },
    {
      "cell_type": "markdown",
      "metadata": {},
      "source": [
        "**지정 숫자 변환**"
      ],
      "id": "d2ee207d"
    },
    {
      "cell_type": "code",
      "metadata": {},
      "source": [
        "g[1,2] = 999\n",
        "g2  #결과 보면 1행2열이 999로 변환한것을 확인"
      ],
      "id": "ff9c9244",
      "execution_count": null,
      "outputs": []
    },
    {
      "cell_type": "markdown",
      "metadata": {},
      "source": [
        "**ravel** : 동일한 데이터를 가리키는 새로운 1차원 ndarray를 반환\n"
      ],
      "id": "e47e6582"
    },
    {
      "cell_type": "code",
      "metadata": {},
      "source": [
        "g.ravel()"
      ],
      "id": "cd106fa3",
      "execution_count": null,
      "outputs": []
    },
    {
      "cell_type": "markdown",
      "metadata": {},
      "source": [
        "## 산술 연산 \n",
        ": +,-,*,/,//,** 등\n",
        "\n",
        "## 규칙 \n",
        "**1** 배열의 랭크가 동일하지 않으면 랭크가 맞을 때 까지 랭크가 작은 배열 앞에 1을 추가함"
      ],
      "id": "6b128dec"
    },
    {
      "cell_type": "code",
      "metadata": {},
      "source": [
        "h = np.arange(5).reshape(1,1,5)\n",
        "h"
      ],
      "id": "28edb103",
      "execution_count": null,
      "outputs": []
    },
    {
      "cell_type": "markdown",
      "metadata": {},
      "source": [
        "수를 더할수 있음"
      ],
      "id": "fa1990ec"
    },
    {
      "cell_type": "code",
      "metadata": {},
      "source": [
        "h + [10, 20, 30, 40, 50]  "
      ],
      "id": "1cf8b325",
      "execution_count": null,
      "outputs": []
    },
    {
      "cell_type": "markdown",
      "metadata": {},
      "source": [
        "**2**\n",
        "가장 큰 배열의 크기에 맞춰 동작해야함"
      ],
      "id": "bd24cd4b"
    },
    {
      "cell_type": "code",
      "metadata": {},
      "source": [
        "k = np.arange(6).reshape(2, 3)\n",
        "k"
      ],
      "id": "e8668b6a",
      "execution_count": null,
      "outputs": []
    },
    {
      "cell_type": "code",
      "metadata": {},
      "source": [
        "k + [[100], [200]]  # 다음과 같습니다: k + [[100, 100, 100], [200, 200, 200]]"
      ],
      "id": "3e2d2ba5",
      "execution_count": null,
      "outputs": []
    },
    {
      "cell_type": "markdown",
      "metadata": {},
      "source": [
        "**규칙 1 + 2**"
      ],
      "id": "72fdb672"
    },
    {
      "cell_type": "code",
      "metadata": {},
      "source": [
        "k + [100, 200, 300]  # 규칙 1 적용: [[100, 200, 300]], 규칙 2 적용: [[100, 200, 300], [100, 200, 300]]"
      ],
      "id": "90babacf",
      "execution_count": null,
      "outputs": []
    },
    {
      "cell_type": "markdown",
      "metadata": {},
      "source": [
        "# 업캐스팅\n",
        "dtype이 다른 배열을 합칠 때 넘파이는(실제 값에 상관없이) 모든 값을 다룰 수 있는 타입으로 업캐스팅 함\n"
      ],
      "id": "287945df"
    },
    {
      "cell_type": "code",
      "metadata": {},
      "source": [
        "k1 = np.arange(0, 5, dtype=np.uint8)  \n",
        "print(k1.dtype, k1)"
      ],
      "id": "369ca5cd",
      "execution_count": null,
      "outputs": []
    },
    {
      "cell_type": "code",
      "metadata": {},
      "source": [
        "k2 = k1 + np.array([5, 6, 7, 8, 9], dtype=np.int8)\n",
        "print(k2.dtype, k2)"
      ],
      "id": "414032c4",
      "execution_count": null,
      "outputs": []
    },
    {
      "cell_type": "markdown",
      "metadata": {},
      "source": [
        "#  조건 연산자\n",
        "원소별로 적용가능"
      ],
      "id": "ca2e4609"
    },
    {
      "cell_type": "code",
      "metadata": {},
      "source": [
        "m = np.array([20, -5, 30, 40])\n",
        "m < [15, 16, 35, 36]"
      ],
      "id": "127e49cb",
      "execution_count": null,
      "outputs": []
    }
  ],
  "metadata": {
    "kernelspec": {
      "display_name": "Python 3",
      "language": "python",
      "name": "python3"
    }
  },
  "nbformat": 4,
  "nbformat_minor": 5
}