{
 "cells": [
  {
   "attachments": {},
   "cell_type": "markdown",
   "metadata": {},
   "source": [
    "---\n",
    "title: \"5.Proximity Analysis\"\n",
    "author: \"kim dayeon\"\n",
    "date: today\n",
    "categories: [news, code, analysis]\n",
    "image: \"5.Proximity.png\"\n",
    "---"
   ]
  },
  {
   "attachments": {},
   "cell_type": "markdown",
   "metadata": {},
   "source": [
    "# Introduction\n",
    "In this tutorial, you'll explore several techniques for proximity analysis. In particular, you'll learn how to do such things as:\n",
    "\n",
    "measure the distance between points on a map, and\n",
    "select all points within some radius of a feature."
   ]
  },
  {
   "cell_type": "code",
   "execution_count": 2,
   "metadata": {},
   "outputs": [],
   "source": [
    "import folium\n",
    "from folium import Marker, GeoJson\n",
    "from folium.plugins import HeatMap\n",
    "\n",
    "import pandas as pd\n",
    "import geopandas as gpd"
   ]
  },
  {
   "cell_type": "code",
   "execution_count": 3,
   "metadata": {},
   "outputs": [
    {
     "data": {
      "text/html": [
       "<div>\n",
       "<style scoped>\n",
       "    .dataframe tbody tr th:only-of-type {\n",
       "        vertical-align: middle;\n",
       "    }\n",
       "\n",
       "    .dataframe tbody tr th {\n",
       "        vertical-align: top;\n",
       "    }\n",
       "\n",
       "    .dataframe thead th {\n",
       "        text-align: right;\n",
       "    }\n",
       "</style>\n",
       "<table border=\"1\" class=\"dataframe\">\n",
       "  <thead>\n",
       "    <tr style=\"text-align: right;\">\n",
       "      <th></th>\n",
       "      <th>YEAR</th>\n",
       "      <th>CITY</th>\n",
       "      <th>COUNTY</th>\n",
       "      <th>ST</th>\n",
       "      <th>LATITUDE</th>\n",
       "      <th>LONGITUDE</th>\n",
       "      <th>CHEMICAL</th>\n",
       "      <th>UNIT_OF_ME</th>\n",
       "      <th>TOTAL_RELE</th>\n",
       "      <th>geometry</th>\n",
       "    </tr>\n",
       "  </thead>\n",
       "  <tbody>\n",
       "    <tr>\n",
       "      <th>0</th>\n",
       "      <td>2016</td>\n",
       "      <td>PHILADELPHIA</td>\n",
       "      <td>PHILADELPHIA</td>\n",
       "      <td>PA</td>\n",
       "      <td>40.005901</td>\n",
       "      <td>-75.072103</td>\n",
       "      <td>FORMIC ACID</td>\n",
       "      <td>Pounds</td>\n",
       "      <td>0.160</td>\n",
       "      <td>POINT (2718560.227 256380.179)</td>\n",
       "    </tr>\n",
       "    <tr>\n",
       "      <th>1</th>\n",
       "      <td>2016</td>\n",
       "      <td>PHILADELPHIA</td>\n",
       "      <td>PHILADELPHIA</td>\n",
       "      <td>PA</td>\n",
       "      <td>39.920120</td>\n",
       "      <td>-75.146410</td>\n",
       "      <td>ETHYLENE GLYCOL</td>\n",
       "      <td>Pounds</td>\n",
       "      <td>13353.480</td>\n",
       "      <td>POINT (2698674.606 224522.905)</td>\n",
       "    </tr>\n",
       "    <tr>\n",
       "      <th>2</th>\n",
       "      <td>2016</td>\n",
       "      <td>PHILADELPHIA</td>\n",
       "      <td>PHILADELPHIA</td>\n",
       "      <td>PA</td>\n",
       "      <td>40.023880</td>\n",
       "      <td>-75.220450</td>\n",
       "      <td>CERTAIN GLYCOL ETHERS</td>\n",
       "      <td>Pounds</td>\n",
       "      <td>104.135</td>\n",
       "      <td>POINT (2676833.394 261701.856)</td>\n",
       "    </tr>\n",
       "    <tr>\n",
       "      <th>3</th>\n",
       "      <td>2016</td>\n",
       "      <td>PHILADELPHIA</td>\n",
       "      <td>PHILADELPHIA</td>\n",
       "      <td>PA</td>\n",
       "      <td>39.913540</td>\n",
       "      <td>-75.198890</td>\n",
       "      <td>LEAD COMPOUNDS</td>\n",
       "      <td>Pounds</td>\n",
       "      <td>1730.280</td>\n",
       "      <td>POINT (2684030.004 221697.388)</td>\n",
       "    </tr>\n",
       "    <tr>\n",
       "      <th>4</th>\n",
       "      <td>2016</td>\n",
       "      <td>PHILADELPHIA</td>\n",
       "      <td>PHILADELPHIA</td>\n",
       "      <td>PA</td>\n",
       "      <td>39.913540</td>\n",
       "      <td>-75.198890</td>\n",
       "      <td>BENZENE</td>\n",
       "      <td>Pounds</td>\n",
       "      <td>39863.290</td>\n",
       "      <td>POINT (2684030.004 221697.388)</td>\n",
       "    </tr>\n",
       "  </tbody>\n",
       "</table>\n",
       "</div>"
      ],
      "text/plain": [
       "   YEAR          CITY        COUNTY  ST   LATITUDE  LONGITUDE   \n",
       "0  2016  PHILADELPHIA  PHILADELPHIA  PA  40.005901 -75.072103  \\\n",
       "1  2016  PHILADELPHIA  PHILADELPHIA  PA  39.920120 -75.146410   \n",
       "2  2016  PHILADELPHIA  PHILADELPHIA  PA  40.023880 -75.220450   \n",
       "3  2016  PHILADELPHIA  PHILADELPHIA  PA  39.913540 -75.198890   \n",
       "4  2016  PHILADELPHIA  PHILADELPHIA  PA  39.913540 -75.198890   \n",
       "\n",
       "                CHEMICAL UNIT_OF_ME  TOTAL_RELE   \n",
       "0            FORMIC ACID     Pounds       0.160  \\\n",
       "1        ETHYLENE GLYCOL     Pounds   13353.480   \n",
       "2  CERTAIN GLYCOL ETHERS     Pounds     104.135   \n",
       "3         LEAD COMPOUNDS     Pounds    1730.280   \n",
       "4                BENZENE     Pounds   39863.290   \n",
       "\n",
       "                         geometry  \n",
       "0  POINT (2718560.227 256380.179)  \n",
       "1  POINT (2698674.606 224522.905)  \n",
       "2  POINT (2676833.394 261701.856)  \n",
       "3  POINT (2684030.004 221697.388)  \n",
       "4  POINT (2684030.004 221697.388)  "
      ]
     },
     "execution_count": 3,
     "metadata": {},
     "output_type": "execute_result"
    }
   ],
   "source": [
    "releases = gpd.read_file(\"D:/archive (1)/toxic_release_pennsylvania/toxic_release_pennsylvania/toxic_release_pennsylvania.shp\") \n",
    "releases.head()"
   ]
  },
  {
   "cell_type": "code",
   "execution_count": 4,
   "metadata": {},
   "outputs": [
    {
     "data": {
      "text/html": [
       "<div>\n",
       "<style scoped>\n",
       "    .dataframe tbody tr th:only-of-type {\n",
       "        vertical-align: middle;\n",
       "    }\n",
       "\n",
       "    .dataframe tbody tr th {\n",
       "        vertical-align: top;\n",
       "    }\n",
       "\n",
       "    .dataframe thead th {\n",
       "        text-align: right;\n",
       "    }\n",
       "</style>\n",
       "<table border=\"1\" class=\"dataframe\">\n",
       "  <thead>\n",
       "    <tr style=\"text-align: right;\">\n",
       "      <th></th>\n",
       "      <th>SITE_NAME</th>\n",
       "      <th>ADDRESS</th>\n",
       "      <th>BLACK_CARB</th>\n",
       "      <th>ULTRAFINE_</th>\n",
       "      <th>CO</th>\n",
       "      <th>SO2</th>\n",
       "      <th>OZONE</th>\n",
       "      <th>NO2</th>\n",
       "      <th>NOY_NO</th>\n",
       "      <th>PM10</th>\n",
       "      <th>...</th>\n",
       "      <th>PAMS_VOC</th>\n",
       "      <th>TSP_11101</th>\n",
       "      <th>TSP_METALS</th>\n",
       "      <th>TSP_LEAD</th>\n",
       "      <th>TOXICS_TO1</th>\n",
       "      <th>MET</th>\n",
       "      <th>COMMUNITY_</th>\n",
       "      <th>LATITUDE</th>\n",
       "      <th>LONGITUDE</th>\n",
       "      <th>geometry</th>\n",
       "    </tr>\n",
       "  </thead>\n",
       "  <tbody>\n",
       "    <tr>\n",
       "      <th>0</th>\n",
       "      <td>LAB</td>\n",
       "      <td>1501 East Lycoming Avenue</td>\n",
       "      <td>N</td>\n",
       "      <td>N</td>\n",
       "      <td>Y</td>\n",
       "      <td>N</td>\n",
       "      <td>Y</td>\n",
       "      <td>Y</td>\n",
       "      <td>Y</td>\n",
       "      <td>N</td>\n",
       "      <td>...</td>\n",
       "      <td>Y</td>\n",
       "      <td>N</td>\n",
       "      <td>Y</td>\n",
       "      <td>N</td>\n",
       "      <td>y</td>\n",
       "      <td>N</td>\n",
       "      <td>N</td>\n",
       "      <td>40.008606</td>\n",
       "      <td>-75.097624</td>\n",
       "      <td>POINT (2711384.641 257149.310)</td>\n",
       "    </tr>\n",
       "    <tr>\n",
       "      <th>1</th>\n",
       "      <td>ROX</td>\n",
       "      <td>Eva and Dearnley Streets</td>\n",
       "      <td>N</td>\n",
       "      <td>N</td>\n",
       "      <td>N</td>\n",
       "      <td>N</td>\n",
       "      <td>N</td>\n",
       "      <td>N</td>\n",
       "      <td>N</td>\n",
       "      <td>N</td>\n",
       "      <td>...</td>\n",
       "      <td>N</td>\n",
       "      <td>N</td>\n",
       "      <td>Y</td>\n",
       "      <td>N</td>\n",
       "      <td>Y</td>\n",
       "      <td>N</td>\n",
       "      <td>N</td>\n",
       "      <td>40.050461</td>\n",
       "      <td>-75.236966</td>\n",
       "      <td>POINT (2671934.290 271248.900)</td>\n",
       "    </tr>\n",
       "    <tr>\n",
       "      <th>2</th>\n",
       "      <td>NEA</td>\n",
       "      <td>Grant Avenue and Ashton Street</td>\n",
       "      <td>N</td>\n",
       "      <td>N</td>\n",
       "      <td>N</td>\n",
       "      <td>N</td>\n",
       "      <td>Y</td>\n",
       "      <td>N</td>\n",
       "      <td>N</td>\n",
       "      <td>N</td>\n",
       "      <td>...</td>\n",
       "      <td>N</td>\n",
       "      <td>N</td>\n",
       "      <td>N</td>\n",
       "      <td>N</td>\n",
       "      <td>N</td>\n",
       "      <td>Y</td>\n",
       "      <td>N</td>\n",
       "      <td>40.072073</td>\n",
       "      <td>-75.013128</td>\n",
       "      <td>POINT (2734326.638 280980.247)</td>\n",
       "    </tr>\n",
       "    <tr>\n",
       "      <th>3</th>\n",
       "      <td>CHS</td>\n",
       "      <td>500 South Broad Street</td>\n",
       "      <td>N</td>\n",
       "      <td>N</td>\n",
       "      <td>N</td>\n",
       "      <td>N</td>\n",
       "      <td>N</td>\n",
       "      <td>N</td>\n",
       "      <td>N</td>\n",
       "      <td>N</td>\n",
       "      <td>...</td>\n",
       "      <td>N</td>\n",
       "      <td>N</td>\n",
       "      <td>Y</td>\n",
       "      <td>N</td>\n",
       "      <td>Y</td>\n",
       "      <td>N</td>\n",
       "      <td>N</td>\n",
       "      <td>39.944510</td>\n",
       "      <td>-75.165442</td>\n",
       "      <td>POINT (2693078.580 233247.101)</td>\n",
       "    </tr>\n",
       "    <tr>\n",
       "      <th>4</th>\n",
       "      <td>NEW</td>\n",
       "      <td>2861 Lewis Street</td>\n",
       "      <td>N</td>\n",
       "      <td>N</td>\n",
       "      <td>Y</td>\n",
       "      <td>Y</td>\n",
       "      <td>Y</td>\n",
       "      <td>N</td>\n",
       "      <td>Y</td>\n",
       "      <td>Y</td>\n",
       "      <td>...</td>\n",
       "      <td>N</td>\n",
       "      <td>Y</td>\n",
       "      <td>N</td>\n",
       "      <td>Y</td>\n",
       "      <td>N</td>\n",
       "      <td>Y</td>\n",
       "      <td>N</td>\n",
       "      <td>39.991688</td>\n",
       "      <td>-75.080378</td>\n",
       "      <td>POINT (2716399.773 251134.976)</td>\n",
       "    </tr>\n",
       "  </tbody>\n",
       "</table>\n",
       "<p>5 rows × 24 columns</p>\n",
       "</div>"
      ],
      "text/plain": [
       "  SITE_NAME                         ADDRESS BLACK_CARB ULTRAFINE_ CO SO2   \n",
       "0       LAB       1501 East Lycoming Avenue          N          N  Y   N  \\\n",
       "1       ROX        Eva and Dearnley Streets          N          N  N   N   \n",
       "2       NEA  Grant Avenue and Ashton Street          N          N  N   N   \n",
       "3       CHS          500 South Broad Street          N          N  N   N   \n",
       "4       NEW               2861 Lewis Street          N          N  Y   Y   \n",
       "\n",
       "  OZONE NO2 NOY_NO PM10  ... PAMS_VOC TSP_11101 TSP_METALS TSP_LEAD   \n",
       "0     Y   Y      Y    N  ...        Y         N          Y        N  \\\n",
       "1     N   N      N    N  ...        N         N          Y        N   \n",
       "2     Y   N      N    N  ...        N         N          N        N   \n",
       "3     N   N      N    N  ...        N         N          Y        N   \n",
       "4     Y   N      Y    Y  ...        N         Y          N        Y   \n",
       "\n",
       "  TOXICS_TO1 MET COMMUNITY_   LATITUDE  LONGITUDE   \n",
       "0          y   N          N  40.008606 -75.097624  \\\n",
       "1          Y   N          N  40.050461 -75.236966   \n",
       "2          N   Y          N  40.072073 -75.013128   \n",
       "3          Y   N          N  39.944510 -75.165442   \n",
       "4          N   Y          N  39.991688 -75.080378   \n",
       "\n",
       "                         geometry  \n",
       "0  POINT (2711384.641 257149.310)  \n",
       "1  POINT (2671934.290 271248.900)  \n",
       "2  POINT (2734326.638 280980.247)  \n",
       "3  POINT (2693078.580 233247.101)  \n",
       "4  POINT (2716399.773 251134.976)  \n",
       "\n",
       "[5 rows x 24 columns]"
      ]
     },
     "execution_count": 4,
     "metadata": {},
     "output_type": "execute_result"
    }
   ],
   "source": [
    "stations = gpd.read_file(\"D:/archive (1)/PhillyHealth_Air_Monitoring_Stations/PhillyHealth_Air_Monitoring_Stations/PhillyHealth_Air_Monitoring_Stations.shp\") \n",
    "stations.head()"
   ]
  },
  {
   "attachments": {},
   "cell_type": "markdown",
   "metadata": {},
   "source": [
    "# Measuring distance\n",
    "To measure distances between points from two different GeoDataFrames, we first have to make sure that they use the same coordinate reference system (CRS). Thankfully, this is the case here, where both use EPSG 2272."
   ]
  },
  {
   "cell_type": "code",
   "execution_count": 5,
   "metadata": {},
   "outputs": [
    {
     "name": "stdout",
     "output_type": "stream",
     "text": [
      "EPSG:2272\n",
      "EPSG:2272\n"
     ]
    }
   ],
   "source": [
    "print(stations.crs)\n",
    "print(releases.crs)\n",
    "\n",
    "\n",
    "#미국은 fit를 사용하기 때문에 주의 해야함"
   ]
  },
  {
   "cell_type": "code",
   "execution_count": 6,
   "metadata": {},
   "outputs": [
    {
     "data": {
      "text/plain": [
       "0     44778.509761\n",
       "1     51006.456589\n",
       "2     77744.509207\n",
       "3     14672.170878\n",
       "4     43753.554393\n",
       "5      4711.658655\n",
       "6     23197.430858\n",
       "7     12072.823097\n",
       "8     79081.825506\n",
       "9      3780.623591\n",
       "10    27577.474903\n",
       "11    19818.381002\n",
       "dtype: float64"
      ]
     },
     "execution_count": 6,
     "metadata": {},
     "output_type": "execute_result"
    }
   ],
   "source": [
    "# Select one release incident in particular\n",
    "recent_release = releases.iloc[360]\n",
    "\n",
    "# Measure distance from release to each station\n",
    "\n",
    "#distance :거리 계산하는 함수\n",
    "\n",
    "distances = stations.geometry.distance(recent_release.geometry)\n",
    "distances   #station과 recent_releas 사이의 거리 계산 해준것"
   ]
  },
  {
   "cell_type": "code",
   "execution_count": 7,
   "metadata": {},
   "outputs": [
    {
     "name": "stdout",
     "output_type": "stream",
     "text": [
      "Mean distance to monitoring stations: 33516.28487007786 feet\n"
     ]
    }
   ],
   "source": [
    "print('Mean distance to monitoring stations: {} feet'.format(distances.mean()))"
   ]
  },
  {
   "cell_type": "code",
   "execution_count": 8,
   "metadata": {},
   "outputs": [
    {
     "name": "stdout",
     "output_type": "stream",
     "text": [
      "Closest monitoring station (3780.623590556444 feet):\n",
      "ADDRESS      3100 Penrose Ferry Road\n",
      "LATITUDE                    39.91279\n",
      "LONGITUDE                 -75.185448\n",
      "Name: 9, dtype: object\n"
     ]
    }
   ],
   "source": [
    "print('Closest monitoring station ({} feet):'.format(distances.min()))\n",
    "print(stations.iloc[distances.idxmin()][[\"ADDRESS\", \"LATITUDE\", \"LONGITUDE\"]])"
   ]
  },
  {
   "attachments": {},
   "cell_type": "markdown",
   "metadata": {},
   "source": [
    "# Creating a buffer\n",
    "If we want to understand all points on a map that are some radius away from a point, the simplest way is to create a buffer.\n",
    "\n",
    "The code cell below creates a GeoSeries two_mile_buffer containing 12 different Polygon objects. Each polygon is a buffer of 2 miles (or, 2*5280 feet) around a different air monitoring station."
   ]
  },
  {
   "cell_type": "code",
   "execution_count": null,
   "metadata": {},
   "outputs": [],
   "source": [
    "two_mile_buffer = stations.geometry.buffer(2*5280)\n",
    "two_mile_buffer.head()"
   ]
  },
  {
   "cell_type": "code",
   "execution_count": null,
   "metadata": {},
   "outputs": [],
   "source": [
    "# Create map with release incidents and monitoring stations\n",
    "m = folium.Map(location=[39.9526,-75.1652], zoom_start=11)\n",
    "HeatMap(data=releases[['LATITUDE', 'LONGITUDE']], radius=15).add_to(m)\n",
    "for idx, row in stations.iterrows():\n",
    "    Marker([row['LATITUDE'], row['LONGITUDE']]).add_to(m)\n",
    "    \n",
    "# Plot each polygon on the map\n",
    "GeoJson(two_mile_buffer.to_crs(epsg=4326)).add_to(m)\n",
    "\n",
    "# Show the map\n",
    "m"
   ]
  },
  {
   "cell_type": "code",
   "execution_count": null,
   "metadata": {},
   "outputs": [],
   "source": [
    "# Turn group of polygons into single multipolygon\n",
    "my_union = two_mile_buffer.geometry.unary_union\n",
    "print('Type:', type(my_union))\n",
    "\n",
    "# Show the MultiPolygon object\n",
    "my_union"
   ]
  },
  {
   "cell_type": "code",
   "execution_count": null,
   "metadata": {},
   "outputs": [],
   "source": [
    "# The closest station is less than two miles away\n",
    "my_union.contains(releases.iloc[360].geometry)"
   ]
  },
  {
   "cell_type": "code",
   "execution_count": null,
   "metadata": {},
   "outputs": [],
   "source": [
    "# The closest station is more than two miles away\n",
    "my_union.contains(releases.iloc[358].geometry)"
   ]
  }
 ],
 "metadata": {
  "kernelspec": {
   "display_name": "dayeon",
   "language": "python",
   "name": "python3"
  },
  "language_info": {
   "codemirror_mode": {
    "name": "ipython",
    "version": 3
   },
   "file_extension": ".py",
   "mimetype": "text/x-python",
   "name": "python",
   "nbconvert_exporter": "python",
   "pygments_lexer": "ipython3",
   "version": "3.11.3"
  },
  "orig_nbformat": 4
 },
 "nbformat": 4,
 "nbformat_minor": 2
}
