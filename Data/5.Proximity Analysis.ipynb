{
 "cells": [
  {
   "attachments": {},
   "cell_type": "markdown",
   "metadata": {},
   "source": [
    "---\n",
    "title: \"4. pydeck-example\"\n",
    "author: \"kim dayeon\"\n",
    "date: today\n",
    "categories: [news, code, analysis]\n",
    "image: \"5.Proximity.png\"\n",
    "---"
   ]
  },
  {
   "attachments": {},
   "cell_type": "markdown",
   "metadata": {},
   "source": [
    "# Introduction\n",
    "In this tutorial, you'll explore several techniques for proximity analysis. In particular, you'll learn how to do such things as:\n",
    "\n",
    "measure the distance between points on a map, and\n",
    "select all points within some radius of a feature."
   ]
  },
  {
   "cell_type": "code",
   "execution_count": null,
   "metadata": {},
   "outputs": [],
   "source": [
    "import folium\n",
    "from folium import Marker, GeoJson\n",
    "from folium.plugins import HeatMap\n",
    "\n",
    "import pandas as pd\n",
    "import geopandas as gpd"
   ]
  },
  {
   "cell_type": "code",
   "execution_count": null,
   "metadata": {},
   "outputs": [],
   "source": [
    "releases = gpd.read_file(\"../input/geospatial-learn-course-data/toxic_release_pennsylvania/toxic_release_pennsylvania/toxic_release_pennsylvania.shp\") \n",
    "releases.head()"
   ]
  },
  {
   "cell_type": "code",
   "execution_count": null,
   "metadata": {},
   "outputs": [],
   "source": [
    "stations = gpd.read_file(\"../input/geospatial-learn-course-data/PhillyHealth_Air_Monitoring_Stations/PhillyHealth_Air_Monitoring_Stations/PhillyHealth_Air_Monitoring_Stations.shp\")\n",
    "stations.head()"
   ]
  },
  {
   "attachments": {},
   "cell_type": "markdown",
   "metadata": {},
   "source": [
    "# Measuring distance\n",
    "To measure distances between points from two different GeoDataFrames, we first have to make sure that they use the same coordinate reference system (CRS). Thankfully, this is the case here, where both use EPSG 2272."
   ]
  },
  {
   "cell_type": "code",
   "execution_count": null,
   "metadata": {},
   "outputs": [],
   "source": [
    "print(stations.crs)\n",
    "print(releases.crs)"
   ]
  },
  {
   "cell_type": "code",
   "execution_count": null,
   "metadata": {},
   "outputs": [],
   "source": [
    "# Select one release incident in particular\n",
    "recent_release = releases.iloc[360]\n",
    "\n",
    "# Measure distance from release to each station\n",
    "distances = stations.geometry.distance(recent_release.geometry)\n",
    "distances"
   ]
  },
  {
   "cell_type": "code",
   "execution_count": null,
   "metadata": {},
   "outputs": [],
   "source": [
    "print('Mean distance to monitoring stations: {} feet'.format(distances.mean()))"
   ]
  },
  {
   "cell_type": "code",
   "execution_count": null,
   "metadata": {},
   "outputs": [],
   "source": [
    "print('Closest monitoring station ({} feet):'.format(distances.min()))\n",
    "print(stations.iloc[distances.idxmin()][[\"ADDRESS\", \"LATITUDE\", \"LONGITUDE\"]])"
   ]
  },
  {
   "attachments": {},
   "cell_type": "markdown",
   "metadata": {},
   "source": [
    "# Creating a buffer\n",
    "If we want to understand all points on a map that are some radius away from a point, the simplest way is to create a buffer.\n",
    "\n",
    "The code cell below creates a GeoSeries two_mile_buffer containing 12 different Polygon objects. Each polygon is a buffer of 2 miles (or, 2*5280 feet) around a different air monitoring station."
   ]
  },
  {
   "cell_type": "code",
   "execution_count": null,
   "metadata": {},
   "outputs": [],
   "source": [
    "two_mile_buffer = stations.geometry.buffer(2*5280)\n",
    "two_mile_buffer.head()"
   ]
  },
  {
   "cell_type": "code",
   "execution_count": null,
   "metadata": {},
   "outputs": [],
   "source": [
    "# Create map with release incidents and monitoring stations\n",
    "m = folium.Map(location=[39.9526,-75.1652], zoom_start=11)\n",
    "HeatMap(data=releases[['LATITUDE', 'LONGITUDE']], radius=15).add_to(m)\n",
    "for idx, row in stations.iterrows():\n",
    "    Marker([row['LATITUDE'], row['LONGITUDE']]).add_to(m)\n",
    "    \n",
    "# Plot each polygon on the map\n",
    "GeoJson(two_mile_buffer.to_crs(epsg=4326)).add_to(m)\n",
    "\n",
    "# Show the map\n",
    "m"
   ]
  },
  {
   "cell_type": "code",
   "execution_count": null,
   "metadata": {},
   "outputs": [],
   "source": [
    "# Turn group of polygons into single multipolygon\n",
    "my_union = two_mile_buffer.geometry.unary_union\n",
    "print('Type:', type(my_union))\n",
    "\n",
    "# Show the MultiPolygon object\n",
    "my_union"
   ]
  },
  {
   "cell_type": "code",
   "execution_count": null,
   "metadata": {},
   "outputs": [],
   "source": [
    "# The closest station is less than two miles away\n",
    "my_union.contains(releases.iloc[360].geometry)"
   ]
  },
  {
   "cell_type": "code",
   "execution_count": null,
   "metadata": {},
   "outputs": [],
   "source": [
    "# The closest station is more than two miles away\n",
    "my_union.contains(releases.iloc[358].geometry)"
   ]
  }
 ],
 "metadata": {
  "kernelspec": {
   "display_name": "dayeon",
   "language": "python",
   "name": "python3"
  },
  "language_info": {
   "name": "python",
   "version": "3.11.3"
  },
  "orig_nbformat": 4
 },
 "nbformat": 4,
 "nbformat_minor": 2
}
